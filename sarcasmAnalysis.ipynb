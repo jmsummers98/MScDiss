{
 "cells": [
  {
   "cell_type": "markdown",
   "metadata": {},
   "source": [
    "## Sarcasm analysis:"
   ]
  },
  {
   "cell_type": "code",
   "execution_count": 1,
   "metadata": {},
   "outputs": [
    {
     "name": "stdout",
     "output_type": "stream",
     "text": [
      "/home/jason/Desktop/Diss/CODE/Sarcasm\n"
     ]
    },
    {
     "name": "stderr",
     "output_type": "stream",
     "text": [
      "[nltk_data] Downloading package stopwords to /home/jason/nltk_data...\n",
      "[nltk_data]   Package stopwords is already up-to-date!\n"
     ]
    }
   ],
   "source": [
    "import pandas as pd\n",
    "import numpy as np\n",
    "import matplotlib.pyplot as plt\n",
    "import sklearn\n",
    "from sklearn.metrics import confusion_matrix\n",
    "import seaborn as sns\n",
    "\n",
    "import nltk\n",
    "from nltk.corpus import stopwords\n",
    "nltk.download('stopwords')\n",
    "\n",
    "import os\n",
    "from os import makedirs\n",
    "from os import chdir\n",
    "from os import path\n",
    "cwd = os.getcwd()\n",
    "print(cwd)"
   ]
  },
  {
   "cell_type": "code",
   "execution_count": 2,
   "metadata": {},
   "outputs": [],
   "source": [
    "StopWords = (stopwords.words('english'))"
   ]
  },
  {
   "cell_type": "code",
   "execution_count": 3,
   "metadata": {},
   "outputs": [],
   "source": [
    "GENdf = pd.read_csv(cwd + '/dfSARC/GENdf.csv')\n",
    "HYPdf = pd.read_csv(cwd + '/dfSARC/HYPdf.csv')\n",
    "RQdf = pd.read_csv(cwd + '/dfSARC/RQdf.csv')\n",
    "\n",
    "GENdf['FalseSarc%'] = GENdf['Incorrectly Sarcastic']/GENdf['Total']\n",
    "GENdf['TrueSarc%'] = GENdf['Rightly Sarcastic']/GENdf['Total']\n",
    "GENdf['success'] = GENdf['Correct']/GENdf['Total']\n",
    "\n",
    "HYPdf['FalseSarc%'] = HYPdf['Incorrectly Sarcastic']/HYPdf['Total']\n",
    "HYPdf['TrueSarc%'] = HYPdf['Rightly Sarcastic']/HYPdf['Total']\n",
    "HYPdf['success'] = HYPdf['Correct']/HYPdf['Total']\n",
    "\n",
    "\n",
    "RQdf['FalseSarc%'] = RQdf['Incorrectly Sarcastic']/RQdf['Total']\n",
    "RQdf['TrueSarc%'] = RQdf['Rightly Sarcastic']/RQdf['Total']\n",
    "RQdf['success'] = RQdf['Correct']/RQdf['Total']"
   ]
  },
  {
   "cell_type": "code",
   "execution_count": 4,
   "metadata": {},
   "outputs": [],
   "source": [
    "def reduceDF(df, total, topn, topcat):\n",
    "    df = df[df['Total'] > total]\n",
    "    df = df[~df.Words.isin(StopWords)]\n",
    "    \n",
    "    return df.nlargest(topn, topcat)"
   ]
  },
  {
   "cell_type": "code",
   "execution_count": 5,
   "metadata": {},
   "outputs": [],
   "source": [
    "GENfinaldf = reduceDF(GENdf, 50, 15, 'TrueSarc%')"
   ]
  },
  {
   "cell_type": "code",
   "execution_count": 6,
   "metadata": {},
   "outputs": [],
   "source": [
    "HYPfinaldf = reduceDF(HYPdf, 15, 15, 'TrueSarc%')"
   ]
  },
  {
   "cell_type": "code",
   "execution_count": 7,
   "metadata": {},
   "outputs": [],
   "source": [
    "RQfinaldf = reduceDF(RQdf, 50, 15, 'TrueSarc%')"
   ]
  },
  {
   "cell_type": "code",
   "execution_count": 8,
   "metadata": {},
   "outputs": [],
   "source": [
    "chdir(cwd)\n",
    "\n",
    "chdir(cwd + \"/dfSARC\")\n",
    "    \n",
    "GENfinaldf.to_csv(\"GENfinaldf.csv\")\n",
    "HYPfinaldf.to_csv(\"HYPfinaldf.csv\")\n",
    "RQfinaldf.to_csv(\"RQfinaldf.csv\")"
   ]
  },
  {
   "cell_type": "code",
   "execution_count": null,
   "metadata": {},
   "outputs": [],
   "source": []
  },
  {
   "cell_type": "code",
   "execution_count": null,
   "metadata": {},
   "outputs": [],
   "source": []
  },
  {
   "cell_type": "code",
   "execution_count": null,
   "metadata": {},
   "outputs": [],
   "source": []
  }
 ],
 "metadata": {
  "kernelspec": {
   "display_name": "Python 3",
   "language": "python",
   "name": "python3"
  },
  "language_info": {
   "codemirror_mode": {
    "name": "ipython",
    "version": 3
   },
   "file_extension": ".py",
   "mimetype": "text/x-python",
   "name": "python",
   "nbconvert_exporter": "python",
   "pygments_lexer": "ipython3",
   "version": "3.6.9"
  }
 },
 "nbformat": 4,
 "nbformat_minor": 2
}
